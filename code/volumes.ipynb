{
 "cells": [
  {
   "cell_type": "code",
   "execution_count": 75,
   "metadata": {},
   "outputs": [],
   "source": [
    "import scipy.spatial\n",
    "import numpy as np\n",
    "import matplotlib.pyplot as plt\n",
    "from collections import Counter"
   ]
  },
  {
   "cell_type": "code",
   "execution_count": 4,
   "metadata": {},
   "outputs": [],
   "source": [
    "#based on https://stackoverflow.com/questions/19634993/volume-of-voronoi-cell-python\n",
    "def volumes(datafile):\n",
    "    data = np.loadtxt(datafile)\n",
    "    vor = scipy.spatial.Voronoi(data)\n",
    "    np.shape(vor.vertices)\n",
    "    vol = np.zeros(vor.npoints)\n",
    "    for i, region in enumerate(vor.point_region):\n",
    "        ids = vor.regions[region]\n",
    "        if -1 in ids: \n",
    "            vol[i] = np.inf\n",
    "        else:\n",
    "            vol[i] = scipy.spatial.ConvexHull(vor.vertices[ids]).volume\n",
    "    return vol"
   ]
  },
  {
   "cell_type": "code",
   "execution_count": 5,
   "metadata": {},
   "outputs": [],
   "source": [
    "vol_clustered = volumes(\"../data/sphere_00_stdcosmo_norsd_z0.100.dat\")"
   ]
  },
  {
   "cell_type": "code",
   "execution_count": 6,
   "metadata": {},
   "outputs": [],
   "source": [
    "vol_clustered_percent = volumes(\"../data/p_010_sphere_00_stdcosmo_norsd_z0.100.dat\")"
   ]
  },
  {
   "cell_type": "code",
   "execution_count": 7,
   "metadata": {},
   "outputs": [],
   "source": [
    "vol_random = volumes(\"../data/random_sphere_00_stdcosmo_norsd_z0.100.dat\")"
   ]
  },
  {
   "cell_type": "code",
   "execution_count": 8,
   "metadata": {},
   "outputs": [],
   "source": [
    "vol_random_percent = volumes(\"../data/p_010_random_sphere_00_stdcosmo_norsd_z0.100.dat\")"
   ]
  },
  {
   "cell_type": "code",
   "execution_count": 231,
   "metadata": {},
   "outputs": [],
   "source": [
    "datafile = \"../data/sphere_00_stdcosmo_norsd_z0.100.dat\"\n",
    "data = np.loadtxt(datafile)\n",
    "n_points = 1000\n",
    "tri = scipy.spatial.Delaunay(data[:n_points,:])"
   ]
  },
  {
   "cell_type": "code",
   "execution_count": 232,
   "metadata": {},
   "outputs": [
    {
     "data": {
      "text/plain": [
       "((6212, 4), 83216)"
      ]
     },
     "execution_count": 232,
     "metadata": {},
     "output_type": "execute_result"
    }
   ],
   "source": [
    "np.shape(tri.simplices), len(data)"
   ]
  },
  {
   "cell_type": "code",
   "execution_count": 233,
   "metadata": {},
   "outputs": [],
   "source": [
    "pairs = list()\n",
    "for l in range(len(tri.simplices)):\n",
    "    simp = tri.simplices[l]\n",
    "    for i in range(4):\n",
    "        for j in range(i+1,4):\n",
    "            p = sorted([simp[i], simp[j]])\n",
    "            if p not in pairs:\n",
    "                pairs.append(p)\n"
   ]
  },
  {
   "cell_type": "code",
   "execution_count": 234,
   "metadata": {},
   "outputs": [],
   "source": [
    "a = np.array(pairs).flatten()\n",
    "c = Counter(a)"
   ]
  },
  {
   "cell_type": "code",
   "execution_count": 239,
   "metadata": {},
   "outputs": [
    {
     "name": "stdout",
     "output_type": "stream",
     "text": [
      "Counter({12: 97, 14: 94, 15: 87, 13: 85, 11: 72, 17: 68, 16: 67, 10: 60, 9: 60, 19: 49, 18: 45, 8: 35, 20: 30, 7: 24, 21: 20, 22: 19, 23: 17, 25: 15, 24: 12, 6: 12, 26: 7, 28: 6, 5: 6, 27: 3, 32: 2, 30: 2, 37: 1, 33: 1, 36: 1, 38: 1, 31: 1, 29: 1})\n"
     ]
    }
   ],
   "source": [
    "h = Counter(list(c.values()))\n",
    "\n",
    "max_connection = 50\n",
    "probas = np.zeros(max_connection)\n",
    "for i in range(max_connection):\n",
    "    if i in h.keys():\n",
    "        probas[i] = h[i]/n_points\n",
    "print(h)"
   ]
  },
  {
   "cell_type": "code",
   "execution_count": 240,
   "metadata": {},
   "outputs": [
    {
     "name": "stdout",
     "output_type": "stream",
     "text": [
      "1.0\n"
     ]
    },
    {
     "data": {
      "image/png": "[encoded data removed]",
      "text/plain": [
       "<Figure size 432x288 with 1 Axes>"
      ]
     },
     "metadata": {
      "needs_background": "light"
     },
     "output_type": "display_data"
    }
   ],
   "source": [
    "plt.plot(probas)\n",
    "print(np.sum(probas[probas>0]))"
   ]
  },
  {
   "cell_type": "code",
   "execution_count": 241,
   "metadata": {},
   "outputs": [
    {
     "name": "stdout",
     "output_type": "stream",
     "text": [
      "4.230960823612927\n"
     ]
    }
   ],
   "source": [
    "p = probas[probas>0]\n",
    "print(-np.sum(np.log2(p) *p)) "
   ]
  },
  {
   "cell_type": "code",
   "execution_count": 242,
   "metadata": {},
   "outputs": [
    {
     "name": "stdout",
     "output_type": "stream",
     "text": [
      "[563 120 558 161]\n",
      "[722 563 558 161]\n",
      "[327 474  10 989]\n",
      "[356 120 350 161]\n",
      "[204 120 558 161]\n",
      "[499 722 558 428]\n",
      "[499 722 563 558]\n",
      "[231 515  64 815]\n",
      "[231 474 506  10]\n",
      "[231 515 474 506]\n",
      "[231 356  10 161]\n",
      "[613 499 722 563]\n"
     ]
    }
   ],
   "source": [
    "for l in range(12):\n",
    "    print(tri.simplices[l])"
   ]
  },
  {
   "cell_type": "code",
   "execution_count": null,
   "metadata": {},
   "outputs": [],
   "source": []
  },
  {
   "cell_type": "code",
   "execution_count": 35,
   "metadata": {},
   "outputs": [
    {
     "name": "stdout",
     "output_type": "stream",
     "text": [
      "[61995, 63171]\n"
     ]
    }
   ],
   "source": [
    "a = list([simp[0], simp[1]])\n",
    "print(sorted(a))"
   ]
  },
  {
   "cell_type": "code",
   "execution_count": 49,
   "metadata": {},
   "outputs": [],
   "source": [
    "vol_clustered = vol_clustered[~np.isinf(vol_clustered)]\n",
    "vol_random = vol_random[~np.isinf(vol_random)]\n",
    "vol_clustered_percent = vol_clustered_percent[~np.isinf(vol_clustered_percent)]\n",
    "vol_random_percent = vol_random_percent[~np.isinf(vol_random_percent)]\n",
    "\n",
    "vol_clustered = vol_clustered[~np.isinf(vol_clustered)]\n",
    "vol_random = vol_random[~np.isinf(vol_random)]\n",
    "vol_clustered_percent = vol_clustered_percent[vol_clustered_percent>0]\n",
    "vol_random_percent = vol_random_percent[vol_random_percent>0]"
   ]
  },
  {
   "cell_type": "code",
   "execution_count": 52,
   "metadata": {},
   "outputs": [
    {
     "data": {
      "image/png": "[encoded data removed]",
      "text/plain": [
       "<Figure size 432x288 with 1 Axes>"
      ]
     },
     "metadata": {
      "needs_background": "light"
     },
     "output_type": "display_data"
    }
   ],
   "source": [
    "_ = plt.hist(np.log10(vol_clustered/vol_clustered.mean()), bins=100, log=True, density=True)\n",
    "_ = plt.hist(np.log10(vol_random/vol_random.mean()), bins=100, log=True, density=True, alpha=0.5)"
   ]
  },
  {
   "cell_type": "code",
   "execution_count": 54,
   "metadata": {},
   "outputs": [
    {
     "data": {
      "image/png": "[encoded data removed]",
      "text/plain": [
       "<Figure size 432x288 with 1 Axes>"
      ]
     },
     "metadata": {
      "needs_background": "light"
     },
     "output_type": "display_data"
    }
   ],
   "source": [
    "_ = plt.hist(np.log10(vol_clustered_percent/vol_clustered_percent.mean()), bins=100, log=True, density=True)\n",
    "_ = plt.hist(np.log10(vol_random_percent/vol_random_percent.mean()), bins=100, log=True, density=True, alpha=0.5)"
   ]
  },
  {
   "cell_type": "code",
   "execution_count": 62,
   "metadata": {},
   "outputs": [
    {
     "data": {
      "image/png": "[encoded data removed]",
      "text/plain": [
       "<Figure size 432x288 with 1 Axes>"
      ]
     },
     "metadata": {
      "needs_background": "light"
     },
     "output_type": "display_data"
    }
   ],
   "source": [
    "_ = plt.hist(np.log10(vol_clustered/vol_clustered.mean()), bins=100, log=True, density=True)\n",
    "_ = plt.hist(np.log10(vol_clustered_percent/vol_clustered_percent.mean()), bins=100, log=True, density=True, alpha=0.6)\n"
   ]
  },
  {
   "cell_type": "code",
   "execution_count": 61,
   "metadata": {},
   "outputs": [
    {
     "data": {
      "image/png": "[encoded data removed]",
      "text/plain": [
       "<Figure size 432x288 with 1 Axes>"
      ]
     },
     "metadata": {
      "needs_background": "light"
     },
     "output_type": "display_data"
    }
   ],
   "source": [
    "_ = plt.hist(np.log10(vol_random/vol_random.mean()), bins=100, log=True, density=True, alpha=0.5)\n",
    "_ = plt.hist(np.log10(vol_random_percent/vol_random_percent.mean()), bins=100, log=True, density=True, alpha=0.5)"
   ]
  },
  {
   "cell_type": "code",
   "execution_count": null,
   "metadata": {},
   "outputs": [],
   "source": []
  }
 ],
 "metadata": {
  "kernelspec": {
   "display_name": "Python 3",
   "language": "python",
   "name": "python3"
  },
  "language_info": {
   "codemirror_mode": {
    "name": "ipython",
    "version": 3
   },
   "file_extension": ".py",
   "mimetype": "text/x-python",
   "name": "python",
   "nbconvert_exporter": "python",
   "pygments_lexer": "ipython3",
   "version": "3.6.10"
  }
 },
 "nbformat": 4,
 "nbformat_minor": 4
}
