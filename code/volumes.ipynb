{
 "cells": [
  {
   "cell_type": "code",
   "execution_count": 32,
   "metadata": {},
   "outputs": [],
   "source": [
    "import scipy.spatial\n",
    "import numpy as np\n",
    "import matplotlib.pyplot as plt"
   ]
  },
  {
   "cell_type": "code",
   "execution_count": 33,
   "metadata": {},
   "outputs": [],
   "source": [
    "#based on https://stackoverflow.com/questions/19634993/volume-of-voronoi-cell-python\n",
    "def volumes(datafile):\n",
    "    data = np.loadtxt(datafile)\n",
    "    vor = scipy.spatial.Voronoi(data)\n",
    "    np.shape(vor.vertices)\n",
    "    vol = np.zeros(vor_sphere.npoints)\n",
    "    for i, region in enumerate(vor.point_region):\n",
    "        ids = vor.regions[region]\n",
    "        if -1 in ids: \n",
    "            vol[i] = np.inf\n",
    "        else:\n",
    "            vol[i] = scipy.spatial.ConvexHull(vor.vertices[ids]).volume\n",
    "    return vol"
   ]
  },
  {
   "cell_type": "code",
   "execution_count": 34,
   "metadata": {},
   "outputs": [],
   "source": [
    "vol_clustered = volumes(\"../data/sphere_00_stdcosmo_norsd_z0.100.dat\")"
   ]
  },
  {
   "cell_type": "code",
   "execution_count": 42,
   "metadata": {},
   "outputs": [],
   "source": [
    "vol_clustered_percent = volumes(\"../data/p_010_sphere_00_stdcosmo_norsd_z0.100.dat\")"
   ]
  },
  {
   "cell_type": "code",
   "execution_count": 35,
   "metadata": {},
   "outputs": [],
   "source": [
    "vol_random = volumes(\"../data/random_sphere_00_stdcosmo_norsd_z0.100.dat\")"
   ]
  },
  {
   "cell_type": "code",
   "execution_count": 43,
   "metadata": {},
   "outputs": [],
   "source": [
    "vol_random_percent = volumes(\"../data/p_010_random_sphere_00_stdcosmo_norsd_z0.100.dat\")"
   ]
  },
  {
   "cell_type": "code",
   "execution_count": 49,
   "metadata": {},
   "outputs": [],
   "source": [
    "vol_clustered = vol_clustered[~np.isinf(vol_clustered)]\n",
    "vol_random = vol_random[~np.isinf(vol_random)]\n",
    "vol_clustered_percent = vol_clustered_percent[~np.isinf(vol_clustered_percent)]\n",
    "vol_random_percent = vol_random_percent[~np.isinf(vol_random_percent)]\n",
    "\n",
    "vol_clustered = vol_clustered[~np.isinf(vol_clustered)]\n",
    "vol_random = vol_random[~np.isinf(vol_random)]\n",
    "vol_clustered_percent = vol_clustered_percent[vol_clustered_percent>0]\n",
    "vol_random_percent = vol_random_percent[vol_random_percent>0]"
   ]
  },
  {
   "cell_type": "code",
   "execution_count": 52,
   "metadata": {},
   "outputs": [
    {
     "data": {
      "image/png": "[encoded data removed]",
      "text/plain": [
       "<Figure size 432x288 with 1 Axes>"
      ]
     },
     "metadata": {
      "needs_background": "light"
     },
     "output_type": "display_data"
    }
   ],
   "source": [
    "_ = plt.hist(np.log10(vol_clustered/vol_clustered.mean()), bins=100, log=True, density=True)\n",
    "_ = plt.hist(np.log10(vol_random/vol_random.mean()), bins=100, log=True, density=True, alpha=0.5)"
   ]
  },
  {
   "cell_type": "code",
   "execution_count": 54,
   "metadata": {},
   "outputs": [
    {
     "data": {
      "image/png": "[encoded data removed]",
      "text/plain": [
       "<Figure size 432x288 with 1 Axes>"
      ]
     },
     "metadata": {
      "needs_background": "light"
     },
     "output_type": "display_data"
    }
   ],
   "source": [
    "_ = plt.hist(np.log10(vol_clustered_percent/vol_clustered_percent.mean()), bins=100, log=True, density=True)\n",
    "_ = plt.hist(np.log10(vol_random_percent/vol_random_percent.mean()), bins=100, log=True, density=True, alpha=0.5)"
   ]
  },
  {
   "cell_type": "code",
   "execution_count": 62,
   "metadata": {},
   "outputs": [
    {
     "data": {
      "image/png": "[encoded data removed]",
      "text/plain": [
       "<Figure size 432x288 with 1 Axes>"
      ]
     },
     "metadata": {
      "needs_background": "light"
     },
     "output_type": "display_data"
    }
   ],
   "source": [
    "_ = plt.hist(np.log10(vol_clustered/vol_clustered.mean()), bins=100, log=True, density=True)\n",
    "_ = plt.hist(np.log10(vol_clustered_percent/vol_clustered_percent.mean()), bins=100, log=True, density=True, alpha=0.6)\n"
   ]
  },
  {
   "cell_type": "code",
   "execution_count": 61,
   "metadata": {},
   "outputs": [
    {
     "data": {
      "image/png": "[encoded data removed]",
      "text/plain": [
       "<Figure size 432x288 with 1 Axes>"
      ]
     },
     "metadata": {
      "needs_background": "light"
     },
     "output_type": "display_data"
    }
   ],
   "source": [
    "_ = plt.hist(np.log10(vol_random/vol_random.mean()), bins=100, log=True, density=True, alpha=0.5)\n",
    "_ = plt.hist(np.log10(vol_random_percent/vol_random_percent.mean()), bins=100, log=True, density=True, alpha=0.5)"
   ]
  },
  {
   "cell_type": "code",
   "execution_count": null,
   "metadata": {},
   "outputs": [],
   "source": []
  }
 ],
 "metadata": {
  "kernelspec": {
   "display_name": "Python 3",
   "language": "python",
   "name": "python3"
  },
  "language_info": {
   "codemirror_mode": {
    "name": "ipython",
    "version": 3
   },
   "file_extension": ".py",
   "mimetype": "text/x-python",
   "name": "python",
   "nbconvert_exporter": "python",
   "pygments_lexer": "ipython3",
   "version": "3.6.10"
  }
 },
 "nbformat": 4,
 "nbformat_minor": 4
}
